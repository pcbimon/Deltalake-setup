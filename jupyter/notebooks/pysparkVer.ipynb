{
 "cells": [
  {
   "cell_type": "code",
   "execution_count": 1,
   "id": "3a0d7845-626e-48fa-bd05-f8a0c67accea",
   "metadata": {},
   "outputs": [],
   "source": [
    "import pyspark"
   ]
  },
  {
   "cell_type": "code",
   "execution_count": 2,
   "id": "4eaf93e3-4948-41b6-85af-3a60b164e127",
   "metadata": {},
   "outputs": [
    {
     "name": "stdout",
     "output_type": "stream",
     "text": [
      "PySpark version: 3.4.1\n"
     ]
    }
   ],
   "source": [
    "# Get the PySpark version\n",
    "pyspark_version = pyspark.__version__\n",
    "\n",
    "print(f\"PySpark version: {pyspark_version}\")"
   ]
  },
  {
   "cell_type": "code",
   "execution_count": null,
   "id": "c376573c-4c1b-458c-8087-3df16709fe26",
   "metadata": {},
   "outputs": [],
   "source": []
  }
 ],
 "metadata": {
  "kernelspec": {
   "display_name": "Python 3 (ipykernel)",
   "language": "python",
   "name": "python3"
  },
  "language_info": {
   "codemirror_mode": {
    "name": "ipython",
    "version": 3
   },
   "file_extension": ".py",
   "mimetype": "text/x-python",
   "name": "python",
   "nbconvert_exporter": "python",
   "pygments_lexer": "ipython3",
   "version": "3.12.6"
  }
 },
 "nbformat": 4,
 "nbformat_minor": 5
}
